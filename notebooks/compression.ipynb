{
 "cells": [
  {
   "cell_type": "markdown",
   "metadata": {},
   "source": [
    "# Polymer brush compression"
   ]
  },
  {
   "cell_type": "markdown",
   "metadata": {},
   "source": [
    "This notebook compares the compression of various polymer brushes with different dispersities. We compare compression with and without a redistribution of the polymer mass."
   ]
  },
  {
   "cell_type": "code",
   "execution_count": 1,
   "metadata": {},
   "outputs": [],
   "source": [
    "%load_ext autoreload\n",
    "%autoreload 2"
   ]
  },
  {
   "cell_type": "code",
   "execution_count": 2,
   "metadata": {},
   "outputs": [],
   "source": [
    "# Standard imports\n",
    "import numpy as np\n",
    "import pandas as pd\n",
    "import matplotlib.pyplot as plt"
   ]
  },
  {
   "cell_type": "code",
   "execution_count": 3,
   "metadata": {},
   "outputs": [],
   "source": [
    "# Import custom package\n",
    "import brush as b\n",
    "from config import FIGURE_SIZE, FIGURE_DPI"
   ]
  },
  {
   "cell_type": "markdown",
   "metadata": {},
   "source": [
    "## Compare compression base on profile with compression from simulation"
   ]
  },
  {
   "cell_type": "code",
   "execution_count": 10,
   "metadata": {},
   "outputs": [],
   "source": [
    "# Load the profiles\n",
    "brush_11 = b.Brush(\"simulation\",\n",
    "                   {\"filename\": \"../data/Density_Profile_D110.csv\"})\n",
    "brush_12 = b.Brush(\"simulation\",\n",
    "                   {\"filename\": \"../data/Density_Profile_D120.csv\"})\n",
    "brush_14 = b.Brush(\"simulation\",\n",
    "                   {\"filename\": \"../data/Density_profile_D140.csv\"})"
   ]
  },
  {
   "cell_type": "code",
   "execution_count": 11,
   "metadata": {},
   "outputs": [
    {
     "ename": "AttributeError",
     "evalue": "'numpy._ArrayFunctionDispatcher' object has no attribute 'deepcopy'",
     "output_type": "error",
     "traceback": [
      "\u001b[1;31m---------------------------------------------------------------------------\u001b[0m",
      "\u001b[1;31mAttributeError\u001b[0m                            Traceback (most recent call last)",
      "Cell \u001b[1;32mIn[11], line 2\u001b[0m\n\u001b[0;32m      1\u001b[0m \u001b[38;5;66;03m# Compress the profiles \u001b[39;00m\n\u001b[1;32m----> 2\u001b[0m \u001b[43mbrush_11\u001b[49m\u001b[38;5;241;43m.\u001b[39;49m\u001b[43mcompress_profile\u001b[49m\u001b[43m(\u001b[49m\u001b[43msurface_area\u001b[49m\u001b[38;5;241;43m=\u001b[39;49m\u001b[38;5;241;43m2250\u001b[39;49m\u001b[43m,\u001b[49m\u001b[43mredistribute_polymer\u001b[49m\u001b[38;5;241;43m=\u001b[39;49m\u001b[38;5;28;43;01mFalse\u001b[39;49;00m\u001b[43m)\u001b[49m\n\u001b[0;32m      3\u001b[0m brush_12\u001b[38;5;241m.\u001b[39mcompress_profile(surface_area\u001b[38;5;241m=\u001b[39m\u001b[38;5;241m2250\u001b[39m,redistribute_polymer\u001b[38;5;241m=\u001b[39m\u001b[38;5;28;01mFalse\u001b[39;00m)\n\u001b[0;32m      4\u001b[0m brush_14\u001b[38;5;241m.\u001b[39mcompress_profile(surface_area\u001b[38;5;241m=\u001b[39m\u001b[38;5;241m2250\u001b[39m,redistribute_polymer\u001b[38;5;241m=\u001b[39m\u001b[38;5;28;01mFalse\u001b[39;00m)\n",
      "File \u001b[1;32m~\\OneDrive\\1 Projects\\Theory Disperse Brush\\picbad\\src\\brush.py:123\u001b[0m, in \u001b[0;36mBrush.compress_profile\u001b[1;34m(self, beta, redistribute_polymer, z_min, surface_area)\u001b[0m\n\u001b[0;32m    121\u001b[0m z_rev \u001b[38;5;241m=\u001b[39m \u001b[38;5;28mself\u001b[39m\u001b[38;5;241m.\u001b[39mz[::\u001b[38;5;241m-\u001b[39m\u001b[38;5;241m1\u001b[39m]\n\u001b[0;32m    122\u001b[0m \u001b[38;5;66;03m# phi_rev = self.osm_press[::-1]\u001b[39;00m\n\u001b[1;32m--> 123\u001b[0m phi_rev \u001b[38;5;241m=\u001b[39m \u001b[43mnp\u001b[49m\u001b[38;5;241;43m.\u001b[39;49m\u001b[43mcopy\u001b[49m\u001b[38;5;241;43m.\u001b[39;49m\u001b[43mdeepcopy\u001b[49m(\u001b[38;5;28mself\u001b[39m\u001b[38;5;241m.\u001b[39mphi_N[::\u001b[38;5;241m-\u001b[39m\u001b[38;5;241m1\u001b[39m])\n\u001b[0;32m    124\u001b[0m \u001b[38;5;66;03m# Find indices where values are NaN\u001b[39;00m\n\u001b[0;32m    125\u001b[0m nan_indices \u001b[38;5;241m=\u001b[39m np\u001b[38;5;241m.\u001b[39misnan(phi_rev)\n",
      "\u001b[1;31mAttributeError\u001b[0m: 'numpy._ArrayFunctionDispatcher' object has no attribute 'deepcopy'"
     ]
    }
   ],
   "source": [
    "# Compress the profiles \n",
    "brush_11.compress_profile(surface_area=2250,redistribute_polymer=False)\n",
    "brush_12.compress_profile(surface_area=2250,redistribute_polymer=False)\n",
    "brush_14.compress_profile(surface_area=2250,redistribute_polymer=False)\n",
    "\n",
    "fig, ax = plt.subplots(figsize=FIGURE_SIZE, dpi=FIGURE_DPI)\n",
    "ax.plot(brush_11.z, brush_11.compression_force, \"-k\", label='D = 1.1')\n",
    "\n",
    "ax.set_xlim([20,100])\n",
    "ax.set_xlabel(\"Distance [$\\sigma$]\")\n",
    "ax.set_ylim([0,100])\n",
    "ax.set_ylabel(\"Force [$\\epsilon/\\sigma$]\")\n",
    "\n",
    "print(np.sum(brush_11.compression_force))\n",
    "# fig, ax = plt.subplots()\n",
    "# ax.plot(brush.z, brush.phi,'k')\n",
    "# ax.plot(brush_2.z, brush_2.phi,'k:')\n",
    "# ax.set_xlim([0,100])\n",
    "\n",
    "# brush.compress_profile(surface_area=2250,redistribute_polymer=False)\n",
    "# brush_2.compress_profile(surface_area=2250,redistribute_polymer=False)\n",
    "# brush.insert_particle(1*np.sqrt(10),beta=-0.001)\n",
    "# brush_2.insert_particle(1*np.sqrt(10),beta=-0.001)\n",
    "# data = pd.read_csv(\"data/Small_Particle_D140.csv\")\n",
    "# x = data.z.to_numpy() - 3.0 # OFFSET BECAUSE WALL HAS THICKNESS\n",
    "# y = data.F_mean.to_numpy()\n",
    "# fig, ax = plt.subplots()\n",
    "# ax.plot(brush.z, brush.insertion_force,label='theory')\n",
    "# ax.plot(brush_2.z, brush_2.insertion_force,label='sim-based')\n",
    "# ax.plot(x,y,label='simulation')\n",
    "# ax.set_xlim([20,100])\n",
    "# ax.set_ylim([0,3])\n",
    "# ax.legend()\n",
    "# plt.show()"
   ]
  }
 ],
 "metadata": {
  "kernelspec": {
   "display_name": "Python 3",
   "language": "python",
   "name": "python3"
  },
  "language_info": {
   "codemirror_mode": {
    "name": "ipython",
    "version": 3
   },
   "file_extension": ".py",
   "mimetype": "text/x-python",
   "name": "python",
   "nbconvert_exporter": "python",
   "pygments_lexer": "ipython3",
   "version": "3.9.13"
  }
 },
 "nbformat": 4,
 "nbformat_minor": 2
}
