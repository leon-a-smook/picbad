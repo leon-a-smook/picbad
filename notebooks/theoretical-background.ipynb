{
 "cells": [
  {
   "cell_type": "markdown",
   "metadata": {},
   "source": [
    "# Theoretical background"
   ]
  },
  {
   "cell_type": "markdown",
   "metadata": {},
   "source": [
    "The information in this notebook will be described in more detail in the corresponding manuscript."
   ]
  },
  {
   "cell_type": "markdown",
   "metadata": {},
   "source": [
    "## 1. Density profiles\n",
    "The density profile can be found by assuming that all chains lengths stretch to unique height such that for each chain length, one can define a specific value for $\\phi$ and for $z$. This gives the following parametric expression for $\\phi$ and $z$.\n",
    "\n",
    "\\begin{equation}\n",
    "\\phi(N) = \\left[\\left(\\frac{a}{d_0}\\right)S(N)^{1/2}\\right]^{3-1/\\nu} \\tag{1.1}\n",
    "\\end{equation}\n",
    "\n",
    "\\begin{equation}\n",
    "z(N) = d_0^{1-1/\\nu}a^{1/\\nu}\\int_0^N \\left[S(N^\\prime)^{1/2\\nu - 1/2}\\right] \\text{d} N^\\prime \\tag{1.2}\n",
    "\\end{equation}\n",
    "\n",
    "Here $\\phi$ is the volume fraction, $a$ the (effective) monomer size, $d_0$ the average grafting distance, $S(N)$ the survival function of the chosen chain length distribution, and $\\nu$ the Flory exponent.\n",
    "\n"
   ]
  },
  {
   "cell_type": "markdown",
   "metadata": {},
   "source": [
    "## 2. Osmotic pressure\n",
    "The osmotic pressure can be expressed based on the number density ($\\rho$) of the polymer according to\n",
    "\\begin{equation}\n",
    "\\Pi = C\\left(\\frac{kT}{a^3}\\right)\\rho^{\\frac{3\\nu}{3\\nu-1}} \\tag{2.1}\n",
    "\\end{equation}\n",
    "\n",
    "Here, $\\rho$ is the number density, which can be easily recovered using:\n",
    "\\begin{equation}\n",
    "\\rho = \\phi/ \\left(\\frac{4}{3}\\pi a^3\\right) \\tag{2.2}\n",
    "\\end{equation}\n",
    "where $C$ is an osmotic prefactor. According to de Gennes [1], this prefactor should be on the order of 1, however de Beer et al. [2] found a prefactor of 3.2 in their coarse-grained simulations.\n"
   ]
  },
  {
   "cell_type": "markdown",
   "metadata": {},
   "source": [
    "## 3. Particle insertion\n",
    "\n",
    "Particle insertion can be considered based on two contributions, one for the osmotic pressure [2,3] and one for the interactions with the surface [3]. The osmotic contribution simply follows from the placement of a volume element into a region a specific osmotic pressure ($\\Pi V$). The surface contribution can be described as $\\gamma S$ were $S$ is the surface area of the particle.  Combined, this gives the following expression for the insertion free energy of a particle:\n",
    "\n",
    "\\begin{equation}\n",
    "E(z)_{ins} = \\int_{z-R}^{z+R}\\Pi(z)V(z)\\text{d}z + \\beta\\int_{z-R}^{z+R}\\gamma(z)S(z)\\text{d}z\\tag{3.1}\n",
    "\\end{equation}\n",
    "\n",
    "$\\Pi(z)$ can be found based on the number density of the polymer as described in equation (2.1). The contribution of $\\gamma(z)$ is also related to the osmotic pressure via [1,2]\n",
    "\n",
    "\\begin{equation}\n",
    "\\gamma = -\\Pi \\beta\\rho^\\frac{-\\nu}{3\\nu-1} \\tag{3.2}\n",
    "\\end{equation}\n",
    "\n",
    "with expressions for $\\Pi$ and $\\gamma$ as a function of the distance from the grafting plane, the energy of insertion for a particle can be calculated at any insertion distance based on a provided density profile. The force exerted on the particle than follows from\n",
    "\n",
    "\\begin{equation}\n",
    "F = -\\frac{\\text{d}E(z)_{ins}}{\\text{d}z}\\tag{3.3}\n",
    "\\end{equation}"
   ]
  },
  {
   "cell_type": "markdown",
   "metadata": {},
   "source": [
    "## 4. Wall compression\n",
    "To simulate wall compression based on a density profile, we gradually lower a wall into the brush. \n",
    "\n",
    "We compute the osmotic pressure at the wall using equation (3.1). Then we evaluate\n",
    "\n",
    "\\begin{equation}\n",
    " \\Delta F = A\\Pi(z)\\Delta z \\tag{4.1}\n",
    "\\end{equation}\n",
    "\n",
    "to find the work done. After this minimal compression, the polymer in the compressed region is homogeneously distributed, such that the density profile below $z$ shifts up with $\\rho(z)\\Delta(z)/z$\n",
    "\n",
    "\\begin{equation}\n",
    "\\rho = \\rho + (\\rho(z)\\Delta z) / z \\tag{4.2}\n",
    "\\end{equation}\n",
    "\n",
    "This procedure is repeated until the desired compression is reached (or the lower wall is reached.)"
   ]
  },
  {
   "cell_type": "markdown",
   "metadata": {},
   "source": [
    "## References\n",
    "[1] de Gennes, P. Scaling Concepts in Polymer Physics; CornellUniversity Press: 1979.\n",
    "\n",
    "[2] de Beer, S., Mensink, L. I. S. & Kieviet, B. D. Geometry-Dependent Insertion Forces on Particles in Swollen Polymer Brushes. Macromolecules 49, 1070–1078 (2016)."
   ]
  }
 ],
 "metadata": {
  "language_info": {
   "name": "python"
  }
 },
 "nbformat": 4,
 "nbformat_minor": 2
}
