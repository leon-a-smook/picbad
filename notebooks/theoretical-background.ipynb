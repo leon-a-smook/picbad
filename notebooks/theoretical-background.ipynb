{
 "cells": [
  {
   "cell_type": "markdown",
   "metadata": {},
   "source": [
    "# Theoretical background"
   ]
  },
  {
   "cell_type": "markdown",
   "metadata": {},
   "source": [
    "## 1. Density profiles\n",
    "The density profile can be found by assuming that all chains lengths stretch to unique height such that for each chain length, one can define a specific value for $\\phi$ and for $z$. This gives the following parametric expression for $\\phi$ and $z$.\n",
    "\n",
    "\\begin{equation}\n",
    "\\phi(N) = \\left[\\left(\\frac{a}{d_0}\\right)S(N)^{1/2}\\right]^{3-1/\\nu} \\tag{1.1}\n",
    "\\end{equation}\n",
    "\n",
    "\\begin{equation}\n",
    "z(N) = d_0^{1-1/\\nu}a^{1/\\nu}\\int_0^N \\left[S(N^\\prime)^{1/2\\nu - 1/2}\\right] \\text{d} N^\\prime \\tag{1.2}\n",
    "\\end{equation}\n",
    "\n"
   ]
  },
  {
   "cell_type": "markdown",
   "metadata": {},
   "source": [
    "## 2. Osmotic pressure\n",
    "The osmotic pressure can be expressed based on the number density ($\\rho$) of the polymer according to\n",
    "\\begin{equation}\n",
    "\\Pi = C\\left(\\frac{kT}{a^3}\\right)\\rho^{\\frac{3\\nu}{3\\nu-1}} \\tag{3.1}\n",
    "\\end{equation}\n",
    "\n",
    "Here, $\\rho$ is the number density, which can be easily recovered using:\n",
    "\\begin{equation}\n",
    "\\rho = \\phi/ \\left(\\frac{4}{3}\\pi a^3\\right) \\tag{3.2}\n",
    "\\end{equation}"
   ]
  },
  {
   "cell_type": "markdown",
   "metadata": {},
   "source": [
    "## 3. Particle insertion"
   ]
  },
  {
   "cell_type": "markdown",
   "metadata": {},
   "source": [
    "## 4. Wall compression\n",
    "To simulate wall compression based on a density profile, we gradually lower a wall into the brush. \n",
    "\n",
    "We compute the osmotic pressure at the wall using equation (3.1). Then we evaluate\n",
    "\n",
    "\\begin{equation}\n",
    " \\Delta F = A\\Pi(z)\\Delta z \\tag{4.1}\n",
    "\\end{equation}\n",
    "\n",
    "to find the work done. After this minimal compression, the polymer in the compressed region is homogeneously distributed, such that the density profile below $z$ shifts up with $\\rho(z)\\Delta(z)/z$\n",
    "\n",
    "\\begin{equation}\n",
    "\\rho = \\rho + (\\rho(z)\\Delta z) / z \\tag{4.2}\n",
    "\\end{equation}\n",
    "\n",
    "This procedure is repeated until the desired compression is reached (or the lower wall is reached.)"
   ]
  }
 ],
 "metadata": {
  "language_info": {
   "name": "python"
  }
 },
 "nbformat": 4,
 "nbformat_minor": 2
}
