{
 "cells": [
  {
   "cell_type": "markdown",
   "id": "07ef72b5",
   "metadata": {},
   "source": [
    "# What is picbad\n",
    "Picbad is a module that can be used to compute the interaction of polymer brushes with walls and particles. The general use follows the process described below."
   ]
  },
  {
   "cell_type": "markdown",
   "id": "56e6ab1e",
   "metadata": {},
   "source": [
    "## Install picbad\n",
    "Before you can use the module, first you need to install it. To do this:\n",
    "1. Open a terminal window in the root directory\n",
    "2. Run `pip install -e .`\n",
    "\n",
    "Alternatively, you can also run the cell below."
   ]
  },
  {
   "cell_type": "code",
   "execution_count": null,
   "id": "490d9742",
   "metadata": {},
   "outputs": [],
   "source": [
    "!pip install -e ."
   ]
  },
  {
   "cell_type": "code",
   "execution_count": null,
   "id": "73d6995d",
   "metadata": {},
   "outputs": [],
   "source": [
    "# The following two lines enable you to edit the script without a need to reload the notebook\n",
    "%load_ext autoreload\n",
    "%autoreload 2\n",
    "\n",
    "# Let's load the module\n",
    "import brush as b\n",
    "\n",
    "# And get some additional things ready to visualize the results later\n",
    "import numpy as np\n",
    "import pandas as pd\n",
    "import matplotlib.pyplot as plt"
   ]
  },
  {
   "cell_type": "markdown",
   "id": "76bcf242",
   "metadata": {},
   "source": [
    "## Define your brush\n",
    "Define the properties of the brush you want to study. You can choose one of the predefined chain length probability distributions distributions, or implement your own chain length probability distribution in the code. Currently, the following distributions are implemented:\n",
    "\n",
    "#### Gaussian\n",
    "This distribution gives a simple Gaussian chain length probability distribution. The distribution requires two input paramters that define the distribution:\n",
    "-  `Mn` - Number average length of the grafted chains\n",
    "-  `sigma` - The standard deviation around this average length\n",
    "\n",
    "#### Schulz-Zimm\n",
    "This distribution models reversible-deactivation radical polymerization reactions\n",
    "- `Mn` - Number average length of the grafted chains\n",
    "- `D` - The dispersity of the grafted chains (Mw/Mn)\n",
    "\n",
    "Besides these distributions, you can also tune various other properties of the brush, including\n",
    "- `grafting_density` - Grafting density in reduced units (Default 0.1)\n",
    "- `nu` - Flory exponent for solvent quality (Default 0.588)\n",
    "- `kT` - Thermal energy in reduced units (Default 1.0)\n",
    "- `monomer_size` - Size of the monomer segments and de facto system length scale (Default 1.0)\n",
    "- `osmotic_prefactor` - Scaling factor for the osmotic pressure (cf Equation 15 in the publication) (Default 1.0)\n",
    "- `volume_scaling` - Scaling to map theory onto simulations (Default 1.0)"
   ]
  },
  {
   "cell_type": "markdown",
   "id": "c617f5ee",
   "metadata": {},
   "source": [
    "Let's create a Gaussian brush and a Schulz-Zimm brush as an example."
   ]
  },
  {
   "cell_type": "code",
   "execution_count": null,
   "id": "b1feb60b",
   "metadata": {},
   "outputs": [],
   "source": [
    "brush_gaussian = b.Brush(\"model\", \n",
    "                         {\"type\" : \"gaussian\",  \n",
    "                          \"Mn\" : 100,\n",
    "                          \"sigma\" : 10.0},\n",
    "                          grafting_density = 0.1)\n",
    "brush_sz = b.Brush(\"model\",\n",
    "                   {\"type\" : \"schulz-zimm\",\n",
    "                    \"Mn\" : 100,\n",
    "                    \"D\" : 1.3},\n",
    "                    grafting_density = 0.1)"
   ]
  },
  {
   "cell_type": "markdown",
   "id": "44fb9827",
   "metadata": {},
   "source": [
    "Now that we have these brushes, let's visualize their profiles."
   ]
  },
  {
   "cell_type": "code",
   "execution_count": null,
   "id": "d22e36cc",
   "metadata": {},
   "outputs": [],
   "source": [
    "fig, ax = plt.subplots(figsize=(4,2.5))\n",
    "ax.plot(brush_gaussian.z, brush_gaussian.phi_N, \"-\", label='Gaussian', color='tab:blue')\n",
    "ax.plot(brush_sz.z, brush_sz.phi_N, '-', label='Schulz-Zimm', color='tab:orange')\n",
    "ax.set_xlabel('Distance from grafting plane [a]')\n",
    "ax.set_ylabel('Polymer volume fraction [-]')\n",
    "ax.legend()"
   ]
  },
  {
   "cell_type": "markdown",
   "id": "276686b9",
   "metadata": {},
   "source": [
    "Now let's compress these profiles and see what force they exert on the wall."
   ]
  },
  {
   "cell_type": "code",
   "execution_count": null,
   "id": "fd0eadf5",
   "metadata": {},
   "outputs": [],
   "source": [
    "brush_gaussian.compress_profile(beta=0, # No interaction between the wall and the polymer, adjust to include (cf. Eq 16 in publication)\n",
    "                             surface_area=100, # Surface area of the brush (in reduced units)\n",
    "                             redistribute_polymer=True # Apply redistribution as describe in publication\n",
    "                             )\n",
    "brush_sz.compress_profile(beta=0, # No interaction between the wall and the polymer, adjust to include (cf. Eq 16 in publication)\n",
    "                             surface_area=100, # Surface area of the brush (in reduced units)\n",
    "                             redistribute_polymer=True # Apply redistribution as describe in publication\n",
    "                             )"
   ]
  },
  {
   "cell_type": "markdown",
   "id": "f7e811e4",
   "metadata": {},
   "source": [
    "This method as added a compression-force profile to the brush object. Let's have a look."
   ]
  },
  {
   "cell_type": "code",
   "execution_count": null,
   "id": "3886c86d",
   "metadata": {},
   "outputs": [],
   "source": [
    "fig, ax = plt.subplots(figsize=(4,2.5))\n",
    "ax.plot(brush_gaussian.z, brush_gaussian.compression_force, \"-\", label='Gaussian', color='tab:blue')\n",
    "ax.plot(brush_sz.z, brush_sz.compression_force, '-', label='Schulz-Zimm', color='tab:orange')\n",
    "ax.set_xlabel('Distance from grafting plane [a]')\n",
    "ax.set_ylabel('Force exerted on wall [kT/a]')\n",
    "ax.set_xlim(left=20)\n",
    "ax.set_ylim(bottom=0,top=1)\n",
    "ax.legend()"
   ]
  },
  {
   "cell_type": "markdown",
   "id": "241ca52b",
   "metadata": {},
   "source": [
    "We can also check the forces on a particle."
   ]
  },
  {
   "cell_type": "code",
   "execution_count": null,
   "id": "43cdf4fe",
   "metadata": {},
   "outputs": [],
   "source": [
    "brush_gaussian.insert_particle(beta=0.0,\n",
    "                               radius=5)\n",
    "brush_sz.insert_particle(beta=0.0,\n",
    "                        radius=5)"
   ]
  },
  {
   "cell_type": "markdown",
   "id": "42faacd2",
   "metadata": {},
   "source": [
    "Let's have a look at the force on this particle as well"
   ]
  },
  {
   "cell_type": "code",
   "execution_count": null,
   "id": "0e8406ca",
   "metadata": {},
   "outputs": [],
   "source": [
    "fig, ax = plt.subplots(figsize=(4,2.5))\n",
    "ax.plot(brush_gaussian.z, brush_gaussian.insertion_force, \"-\", label='Gaussian', color='tab:blue')\n",
    "ax.plot(brush_sz.z, brush_sz.insertion_force, '-', label='Schulz-Zimm', color='tab:orange')\n",
    "ax.set_xlabel('Distance from grafting plane [a]')\n",
    "ax.set_ylabel('Force exerted on particle [kT/a]')\n",
    "ax.set_xlim(left=20)\n",
    "ax.set_ylim(bottom=0,top=2)\n",
    "ax.legend()"
   ]
  },
  {
   "cell_type": "markdown",
   "id": "48975d28",
   "metadata": {},
   "source": [
    "## How to add your own distributions\n",
    "You can add your own custom distributions by adjusting the `brush.py` file by following these steps. This will only work after cloning the repository locally.\n",
    "\n",
    "1. Identify the `generate_profile` function\n",
    "2. Add an `elif params[\"type\"] == <your distribution>:`-statement before the `else`-statement.\n",
    "3. If needed, extract the parameters passed along in the dictionary\n",
    "4. Create a `pdf` lambda-function that describes your distribution. NOTE: the function must be called `pdf` for the rest of the script to work\n",
    "5. Save the file and reload the notebook/ script if needed\n",
    "\n",
    "You can now study brushes with your own distribution."
   ]
  }
 ],
 "metadata": {
  "kernelspec": {
   "display_name": "Python 3",
   "language": "python",
   "name": "python3"
  },
  "language_info": {
   "codemirror_mode": {
    "name": "ipython",
    "version": 3
   },
   "file_extension": ".py",
   "mimetype": "text/x-python",
   "name": "python",
   "nbconvert_exporter": "python",
   "pygments_lexer": "ipython3",
   "version": "3.10.11"
  }
 },
 "nbformat": 4,
 "nbformat_minor": 5
}
